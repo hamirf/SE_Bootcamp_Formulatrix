{
 "cells": [
  {
   "cell_type": "markdown",
   "metadata": {},
   "source": [
    "### **Decorator Design Pattern**\n",
    "Decorator is a structural design pattern that lets you attach new behaviors to objects by placing these objects inside **special wrapper objects** that contain the behaviors.\n",
    "\n",
    "![Decorator Illustration](.\\Images\\decorator-2x.png)\n",
    "\n"
   ]
  },
  {
   "cell_type": "markdown",
   "metadata": {},
   "source": [
    "\n",
    "#### **Problem!**\n",
    "The initial version of the library was based on the Notifier class that had only a few fields, a constructor and a single send method. \n",
    "![Initial Notification Library](.\\Images\\problem1-en-2x.png)\n",
    "\n",
    "At some point, you realize that users of the library expect more than just email notifications. Many of them would like to receive an SMS about critical issues. Others would like to be notified on Facebook and, of course, the corporate users would love to get Slack notifications.\n",
    "![Extended Notification Library](.\\Images\\problem2-2x.png)\n",
    "\n",
    "But then someone reasonably asked you, “Why can’t you use several notification types at once? If your house is on fire, you’d probably want to be informed through every channel.”\n",
    "\n",
    "You tried to address that problem by creating special subclasses which combined several notification methods within one class. However, it quickly became apparent that this approach would **bloat the code immensely**, not only the library code but the client code as well.\n",
    "\n",
    "![Extended Notification Library](.\\Images\\problem3-2x.png)\n",
    "\n",
    "---"
   ]
  },
  {
   "cell_type": "markdown",
   "metadata": {},
   "source": [
    "#### **Solution :)**\n",
    "Extending a class is the first thing that comes to mind when you need to alter an object’s behavior. However, inheritance has several serious caveats that you need to be aware of.\n",
    "\n",
    "Inheritance is static. You can’t alter the behavior of an existing object at runtime. You can only replace the whole object with another one that’s created from a different subclass.\n",
    "Subclasses can have just one parent class. In most languages, inheritance doesn’t let a class inherit behaviors of multiple classes at the same time.\n",
    "\n",
    "One of the ways to overcome these caveats is by using **Aggregation or Composition instead of Inheritance**."
   ]
  },
  {
   "cell_type": "markdown",
   "metadata": {},
   "source": [
    "## PR\n",
    "\n",
    "- #### It’s hard to implement a decorator in such a way that its behavior doesn’t depend on the order in the decorators stack.\n",
    "\n",
    "- #### Decorator, Adapter, and extension method diff\n",
    "\n",
    "    Decorator enhances the ability or behavior of a class\n",
    "    Adapter change the existing object  \n",
    "    Extension method, we no need creating a new derived type or instantiate an object to use its methods."
   ]
  }
 ],
 "metadata": {
  "kernelspec": {
   "display_name": ".NET (C#)",
   "language": "C#",
   "name": ".net-csharp"
  },
  "language_info": {
   "name": "polyglot-notebook"
  },
  "polyglot_notebook": {
   "kernelInfo": {
    "defaultKernelName": "csharp",
    "items": [
     {
      "aliases": [],
      "languageName": "csharp",
      "name": "csharp"
     }
    ]
   }
  }
 },
 "nbformat": 4,
 "nbformat_minor": 2
}
