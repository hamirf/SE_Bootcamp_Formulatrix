{
 "cells": [
  {
   "cell_type": "markdown",
   "metadata": {},
   "source": [
    "### **Decorator Design Pattern**\n",
    "Decorator is a structural design pattern that lets you attach new behaviors to objects by placing these objects inside **special wrapper objects** that contain the behaviors.\n",
    "\n",
    "![Decorator Illustration](.\\Images\\decorator-2x.png)\n",
    "\n"
   ]
  },
  {
   "cell_type": "markdown",
   "metadata": {},
   "source": [
    "\n",
    "#### **Problem!**\n",
    "The initial version of the library was based on the Notifier class that had only a few fields, a constructor and a single send method. \n",
    "![Initial Notification Library](.\\Images\\problem1-en-2x.png)\n",
    "\n",
    "At some point, you realize that users of the library expect more than just email notifications. Many of them would like to receive an SMS about critical issues. Others would like to be notified on Facebook and, of course, the corporate users would love to get Slack notifications.\n",
    "![Extended Notification Library](.\\Images\\problem2-2x.png)\n",
    "\n",
    "But then someone reasonably asked you, “Why can’t you use several notification types at once? If your house is on fire, you’d probably want to be informed through every channel.”\n",
    "\n",
    "You tried to address that problem by creating special subclasses which combined several notification methods within one class. However, it quickly became apparent that this approach would **bloat the code immensely**, not only the library code but the client code as well.\n",
    "![Extended Notification Library](.\\Images\\problem3-2x.png)\n",
    "\n",
    "---"
   ]
  },
  {
   "cell_type": "markdown",
   "metadata": {},
   "source": [
    "#### **Solution :)**"
   ]
  }
 ],
 "metadata": {
  "kernelspec": {
   "display_name": ".NET (C#)",
   "language": "C#",
   "name": ".net-csharp"
  },
  "language_info": {
   "name": "polyglot-notebook"
  },
  "polyglot_notebook": {
   "kernelInfo": {
    "defaultKernelName": "csharp",
    "items": [
     {
      "aliases": [],
      "languageName": "csharp",
      "name": "csharp"
     }
    ]
   }
  }
 },
 "nbformat": 4,
 "nbformat_minor": 2
}
