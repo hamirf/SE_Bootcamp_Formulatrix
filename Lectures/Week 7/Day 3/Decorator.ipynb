{
 "cells": [
  {
   "cell_type": "markdown",
   "metadata": {},
   "source": [
    "### **Decorator Design Pattern**\n",
    "Decorator is a structural design pattern that lets you attach new behaviors to objects by placing these objects inside **special wrapper objects** that contain the behaviors.\n",
    "\n",
    "![Decorator Illustration](.\\Images\\decorator-2x.png)\n",
    "\n"
   ]
  },
  {
   "cell_type": "markdown",
   "metadata": {},
   "source": [
    "\n",
    "#### **Problem!**\n",
    "<!-- The initial version of the library was based on the Notifier class that had only a few fields, a constructor and a single send method.  -->\n",
    "![Initial Notification Library](.\\Images\\problem1-en-2x.png)\n",
    "\n",
    "<!-- At some point, you realize that users of the library expect more than just email notifications. Many of them would like to receive an SMS about critical issues. Others would like to be notified on Facebook and, of course, the corporate users would love to get Slack notifications. -->\n",
    "---\n",
    "![Extended Notification Library](.\\Images\\problem2-2x.png)\n",
    "\n",
    "But then someone reasonably asked you, “Why can’t you use several notification types at once? If your house is on fire, you’d probably want to be informed through every channel.”\n",
    "\n",
    "You tried to address that problem by creating special subclasses which combined several notification methods within one class. However, it quickly became apparent that this approach would **bloat the code immensely**, not only the library code but the client code as well.\n",
    "![Extended Notification Library](.\\Images\\problem3-2x.png)\n",
    "\n",
    "---"
   ]
  },
  {
   "cell_type": "markdown",
   "metadata": {},
   "source": [
    "#### **Solution :)**\n",
    "\n",
    "One of the ways to overcome these caveats is by using **Aggregation or Composition** instead of **Inheritance**.\n",
    "![Aggregation Relation](.\\Images\\solution1-en-2x.png)\n",
    "\n",
    "---\n",
    "A **wrapper** is the alternative nickname for the Decorator pattern, an object that can be linked with some *target object*.\n",
    "\n",
    "![Class Diagram after implement Decorator Desgin Pattern](.\\Images\\solution2-2x.png)"
   ]
  },
  {
   "cell_type": "markdown",
   "metadata": {},
   "source": [
    "#### **Real World Analogy**\n",
    "![Real World Analogy of Decorator DP](./Images/decorator-comic-1-2x.png)"
   ]
  },
  {
   "cell_type": "markdown",
   "metadata": {},
   "source": [
    "#### **Structure**\n",
    "![Structure of Decorator Design Pattern](./Images/structure-2x.png)"
   ]
  },
  {
   "cell_type": "markdown",
   "metadata": {},
   "source": [
    "#### **Pros & Cons**\n",
    "\n",
    "#### **Pros**\n",
    "- You can extend an object’s behavior without making a new subclass.\n",
    "- You can combine several behaviors by wrapping an object into multiple decorators.\n",
    "- *Single Responsibility Principle*. You can divide a monolithic class that implements many possible variants of behavior into several smaller classes.\n",
    "\n",
    "##### **Cons**\n",
    "- Decorators can result in many small objects in our design, and overuse can be complex\n",
    "- Decorators can complicate the process of instantiating the component because you not only have to instantiate the component but wrap it in a number of decorators"
   ]
  },
  {
   "cell_type": "markdown",
   "metadata": {},
   "source": [
    "### **Relation With Other Design Pattern**\n",
    "- Adapter changes the interface of an existing object, while Decorator enhances an object without changing its interface. In addition, Decorator supports recursive composition, which isn’t possible when you use Adapter.\n",
    "- Adapter provides a different interface to the wrapped object, Proxy provides it with the same interface, and Decorator provides it with an enhanced interface.\n",
    "- Composite and Decorator have similar structure diagrams since both rely on recursive composition to organize an open-ended number of objects.\n",
    "\n",
    "\n"
   ]
  }
 ],
 "metadata": {
  "kernelspec": {
   "display_name": ".NET (C#)",
   "language": "C#",
   "name": ".net-csharp"
  },
  "language_info": {
   "name": "polyglot-notebook"
  },
  "polyglot_notebook": {
   "kernelInfo": {
    "defaultKernelName": "csharp",
    "items": [
     {
      "aliases": [],
      "languageName": "csharp",
      "name": "csharp"
     }
    ]
   }
  }
 },
 "nbformat": 4,
 "nbformat_minor": 2
}
